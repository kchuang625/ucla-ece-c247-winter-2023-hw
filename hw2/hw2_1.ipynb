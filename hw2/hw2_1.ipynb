{
 "cells": [
  {
   "cell_type": "markdown",
   "id": "f944e8ee",
   "metadata": {},
   "source": [
    "## ECE C247 HW2\n",
    "***\n",
    "+ Name: Kuei-Chun Huang\n",
    "+ UID: 705668757"
   ]
  },
  {
   "cell_type": "markdown",
   "id": "ea822fdc",
   "metadata": {},
   "source": [
    "### 1. (10 points) Noisy linear regression\n",
    "***\n",
    "+ (a)\n",
    "    + First simplify $\\tilde{\\mathcal{L}}(\\theta)$\n",
    "    $$\n",
    "    \\begin{aligned}\n",
    "    \\text{let }f=\\big(y^{(i)}-(x^{(i)}+\\delta^{(i)})^T\\theta\\big)^2\n",
    "    &=\\big(y^{(i)}-(x^{(i)})^T\\theta-(\\delta^{(i)})^T\\theta\\big)^2\\\\\n",
    "    &=\\big(y^{(i)}-(x^{(i)})^T\\theta\\big)^2-2\\big(y^{(i)}-(x^{(i)})^T\\theta\\big)\\big((\\delta^{(i)})^T\\theta\\big)+\\big((\\delta^{(i)})^T\\theta\\big)^2\n",
    "    \\end{aligned}\n",
    "    $$\n",
    "    + Since $\\delta\\sim\\mathcal{N}(\\mathbb{0},\\sigma^2I)$, $\\mathbb{E}\\big((\\delta^{(i)})^T\\theta\\big)=\\mathbb{0}^T\\theta=0$ and we have\n",
    "    $$\n",
    "    \\begin{aligned}\n",
    "    \\mathbb{E}(f)&=\\mathbb{E}\\big[\\big(y^{(i)}-(x^{(i)})^T\\theta\\big)^2-2\\big(y^{(i)}-(x^{(i)})^T\\theta\\big)\\big((\\delta^{(i)})^T\\theta\\big)+\\big((\\delta^{(i)})^T\\theta\\big)^2\\big]\\\\\n",
    "    &=\\mathbb{E}\\big[\\big(y^{(i)}-(x^{(i)})^T\\theta\\big)^2\\big]-\\mathbb{E}\\big[2\\big(y^{(i)}-(x^{(i)})^T\\theta\\big)\\big((\\delta^{(i)})^T\\theta\\big)\\big]+\\mathbb{E}\\big[\\big((\\delta^{(i)})^T\\theta\\big)^2\\big]\\\\\n",
    "    &=\\big(y^{(i)}-(x^{(i)})^T\\theta\\big)^2-2\\big(y^{(i)}-(x^{(i)})^T\\theta\\big)\\mathbb{E}\\big[\\big((\\delta^{(i)})^T\\theta\\big)\\big]+\\theta^T\\mathbb{E}\\big[\\delta^{(i)}(\\delta^{(i)})^T\\big]\\theta\\\\\n",
    "    &=\\big(y^{(i)}-(x^{(i)})^T\\theta\\big)^2+\\sigma^2\\lVert\\theta\\rVert^2_2\n",
    "    \\end{aligned}\n",
    "    $$\n",
    "    + Therefore\n",
    "    $$\n",
    "    \\mathbb{E}[\\tilde{\\mathcal{L}}(\\theta)]=\\mathbb{E}\\big[\\frac{1}{N}\\sum_{i=1}^Nf\\big]=\\frac{1}{N}\\sum_{i=1}^N\\big(y^{(i)}-(x^{(i)})^T\\theta\\big)^2+\\frac{1}{N}\\cdot N\\cdot\\sigma^2\\lVert\\theta\\rVert^2_2=\\mathcal{L}(\\theta)+\\sigma^2\\lVert\\theta\\rVert^2_2\n",
    "    $$\n",
    "+ (b) It would have L2 regularization effect.\n",
    "+ (c) There would be almost no effect.\n",
    "+ (d) The regularization loss will dominate the loss function."
   ]
  }
 ],
 "metadata": {
  "kernelspec": {
   "display_name": "Python 3 (ipykernel)",
   "language": "python",
   "name": "python3"
  },
  "language_info": {
   "codemirror_mode": {
    "name": "ipython",
    "version": 3
   },
   "file_extension": ".py",
   "mimetype": "text/x-python",
   "name": "python",
   "nbconvert_exporter": "python",
   "pygments_lexer": "ipython3",
   "version": "3.9.0"
  }
 },
 "nbformat": 4,
 "nbformat_minor": 5
}
