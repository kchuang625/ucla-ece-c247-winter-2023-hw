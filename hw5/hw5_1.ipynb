{
 "cells": [
  {
   "cell_type": "markdown",
   "id": "b4d6f399",
   "metadata": {},
   "source": [
    "### 1. (10 points) Understanding receptive fields.\n",
    "***\n",
    "+ (a) $m_1$\n",
    "+ (b) $m_1+m_2-1$\n",
    "+ (c) The receptive field of $CL_1$ will still be $m_1$, while that of $CL_2$ will become $m_1+(m_2-1)\\times s_1$.\n",
    "+ (d) Let $r_i$ be the receptive field of a neuron in the $i$-th layer\n",
    "$$\n",
    "\\begin{aligned}\n",
    "r_1&=m_1\\\\\n",
    "r_2&=r_1+(m_2-1)\\times s_1\\\\\n",
    "r_3&=r_2+(m_3-1)\\times (s_1\\times s_2)\\\\\n",
    "&\\vdots\\\\\n",
    "r_k&=r_{k-1}+(m_k-1)\\prod_{i=1}^{k-1}s_i\\\\\n",
    "\\Rightarrow r_k&=m_1+\\sum_{i=1}^{k-1}\\big((m_{i+1}-1)\\prod_{j=1}^is_j\\big)\n",
    "\\end{aligned}\n",
    "$$\n",
    "+ (e)\n",
    "    + Increase the kernel or the stride sizes.\n",
    "    + Make the network deeper."
   ]
  }
 ],
 "metadata": {
  "kernelspec": {
   "display_name": "Python 3 (ipykernel)",
   "language": "python",
   "name": "python3"
  },
  "language_info": {
   "codemirror_mode": {
    "name": "ipython",
    "version": 3
   },
   "file_extension": ".py",
   "mimetype": "text/x-python",
   "name": "python",
   "nbconvert_exporter": "python",
   "pygments_lexer": "ipython3",
   "version": "3.9.0"
  }
 },
 "nbformat": 4,
 "nbformat_minor": 5
}
