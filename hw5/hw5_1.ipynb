{
 "cells": [
  {
   "cell_type": "markdown",
   "id": "b4d6f399",
   "metadata": {},
   "source": [
    "### 1. (10 points) Understanding receptive fields.\n",
    "***\n",
    "+ (a) $m_1$\n",
    "+ (b) $2m_1-1$\n",
    "+ (c) The receptive field of $CL_1$ will still be $m_1$, while that of $CL_2$ will become $s_1\\times m_1 + (m_1-s_1)$.\n",
    "+ (d) Let $r_i$ be the receptive field of a neuron in the $i$-th layer\n",
    "$$\n",
    "\\begin{aligned}\n",
    "r_1&=m_1\\\\\n",
    "r_2&=s_1\\times r_1+(m_1-s_1)\\\\\n",
    "&\\vdots\\\\\n",
    "r_k&=s_{k-1}\\times r_{k-1}+(m_{k-1}-s_{k-1})\\\\\n",
    "&\\vdots\\\\\n",
    "r_n&=s_{n-1}\\times r_{n-1}+(m_{n-1}-s_{n-1})\\\\\n",
    "\\end{aligned}\n",
    "$$\n",
    "+ (e)\n",
    "    + Increase the kernel or the stride sizes.\n",
    "    + Make the network deeper."
   ]
  }
 ],
 "metadata": {
  "kernelspec": {
   "display_name": "Python 3 (ipykernel)",
   "language": "python",
   "name": "python3"
  },
  "language_info": {
   "codemirror_mode": {
    "name": "ipython",
    "version": 3
   },
   "file_extension": ".py",
   "mimetype": "text/x-python",
   "name": "python",
   "nbconvert_exporter": "python",
   "pygments_lexer": "ipython3",
   "version": "3.9.0"
  }
 },
 "nbformat": 4,
 "nbformat_minor": 5
}
