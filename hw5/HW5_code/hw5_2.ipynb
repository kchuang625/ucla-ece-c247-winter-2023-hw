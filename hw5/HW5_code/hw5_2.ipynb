{
 "cells": [
  {
   "cell_type": "markdown",
   "metadata": {},
   "source": [
    "### 2. (40 points) Implement convolutional neural network layers.\n",
    "***"
   ]
  },
  {
   "cell_type": "markdown",
   "metadata": {},
   "source": [
    "## Convolutional neural network layers\n",
    "\n",
    "In this notebook, we will build the convolutional neural network layers.  This will be followed by a spatial batchnorm, and then in the final notebook of this assignment, we will train a CNN to further improve the validation accuracy on CIFAR-10."
   ]
  },
  {
   "cell_type": "code",
   "execution_count": 1,
   "metadata": {
    "pycharm": {
     "is_executing": true
    }
   },
   "outputs": [],
   "source": [
    "## Import and setups\n",
    "\n",
    "import time\n",
    "\n",
    "import numpy as np\n",
    "import matplotlib.pyplot as plt\n",
    "from nndl.conv_layers import *\n",
    "from utils.data_utils import get_CIFAR10_data\n",
    "from utils.gradient_check import eval_numerical_gradient, eval_numerical_gradient_array\n",
    "from utils.solver import Solver\n",
    "\n",
    "%matplotlib inline\n",
    "plt.rcParams['figure.figsize'] = (10.0, 8.0) # set default size of plots\n",
    "plt.rcParams['image.interpolation'] = 'nearest'\n",
    "plt.rcParams['image.cmap'] = 'gray'\n",
    "\n",
    "# for auto-reloading external modules\n",
    "# see http://stackoverflow.com/questions/1907993/autoreload-of-modules-in-ipython\n",
    "%load_ext autoreload\n",
    "%autoreload 2\n",
    "\n",
    "def rel_error(x, y):\n",
    "  \"\"\" returns relative error \"\"\"\n",
    "  return np.max(np.abs(x - y) / (np.maximum(1e-8, np.abs(x) + np.abs(y))))"
   ]
  },
  {
   "cell_type": "markdown",
   "metadata": {},
   "source": [
    "## Implementing CNN layers\n",
    "\n",
    "Just as we implemented modular layers for fully connected networks, batch normalization, and dropout, we'll want to implement modular layers for convolutional neural networks.  These layers are in `nndl/conv_layers.py`."
   ]
  },
  {
   "cell_type": "markdown",
   "metadata": {},
   "source": [
    "### Convolutional forward pass\n",
    "\n",
    "Begin by implementing a naive version of the forward pass of the CNN that uses `for` loops.  This function is `conv_forward_naive` in `nndl/conv_layers.py`.  Don't worry about efficiency of implementation.  Later on, we provide a fast implementation of these layers.  This version ought to test your understanding of convolution.  In our implementation, there is a triple `for` loop.  \n",
    "\n",
    "After you implement `conv_forward_naive`, test your implementation by running the cell below."
   ]
  },
  {
   "cell_type": "code",
   "execution_count": 2,
   "metadata": {
    "scrolled": true
   },
   "outputs": [
    {
     "name": "stdout",
     "output_type": "stream",
     "text": [
      "Testing conv_forward_naive\n",
      "difference:  2.2121476417505994e-08\n"
     ]
    }
   ],
   "source": [
    "x_shape = (2, 3, 4, 4)\n",
    "w_shape = (3, 3, 4, 4)\n",
    "x = np.linspace(-0.1, 0.5, num=np.prod(x_shape)).reshape(x_shape)\n",
    "w = np.linspace(-0.2, 0.3, num=np.prod(w_shape)).reshape(w_shape)\n",
    "b = np.linspace(-0.1, 0.2, num=3)\n",
    "\n",
    "conv_param = {'stride': 2, 'pad': 1}\n",
    "out, _ = conv_forward_naive(x, w, b, conv_param)\n",
    "correct_out = np.array([[[[-0.08759809, -0.10987781],\n",
    "                           [-0.18387192, -0.2109216 ]],\n",
    "                          [[ 0.21027089,  0.21661097],\n",
    "                           [ 0.22847626,  0.23004637]],\n",
    "                          [[ 0.50813986,  0.54309974],\n",
    "                           [ 0.64082444,  0.67101435]]],\n",
    "                         [[[-0.98053589, -1.03143541],\n",
    "                           [-1.19128892, -1.24695841]],\n",
    "                          [[ 0.69108355,  0.66880383],\n",
    "                           [ 0.59480972,  0.56776003]],\n",
    "                          [[ 2.36270298,  2.36904306],\n",
    "                           [ 2.38090835,  2.38247847]]]])\n",
    "\n",
    "# Compare your output to ours; difference should be around 1e-8\n",
    "print('Testing conv_forward_naive')\n",
    "print('difference: ', rel_error(out, correct_out))"
   ]
  },
  {
   "cell_type": "markdown",
   "metadata": {},
   "source": [
    "### Convolutional backward pass\n",
    "\n",
    "Now, implement a naive version of the backward pass of the CNN.  The function is `conv_backward_naive` in `nndl/conv_layers.py`.  Don't worry about efficiency of implementation.  Later on, we provide a fast implementation of these layers.  This version ought to test your understanding of convolution.  In our implementation, there is a quadruple `for` loop.  \n",
    "\n",
    "After you implement `conv_backward_naive`, test your implementation by running the cell below."
   ]
  },
  {
   "cell_type": "code",
   "execution_count": 3,
   "metadata": {},
   "outputs": [
    {
     "name": "stdout",
     "output_type": "stream",
     "text": [
      "Testing conv_backward_naive function\n",
      "dx error:  1.1004644199051302e-08\n",
      "dw error:  1.0356886595530464e-09\n",
      "db error:  1.0803310060086978e-11\n"
     ]
    }
   ],
   "source": [
    "x = np.random.randn(4, 3, 5, 5)\n",
    "w = np.random.randn(2, 3, 3, 3)\n",
    "b = np.random.randn(2,)\n",
    "dout = np.random.randn(4, 2, 5, 5)\n",
    "conv_param = {'stride': 1, 'pad': 1}\n",
    "\n",
    "out, cache = conv_forward_naive(x,w,b,conv_param)\n",
    "\n",
    "dx_num = eval_numerical_gradient_array(lambda x: conv_forward_naive(x, w, b, conv_param)[0], x, dout)\n",
    "dw_num = eval_numerical_gradient_array(lambda w: conv_forward_naive(x, w, b, conv_param)[0], w, dout)\n",
    "db_num = eval_numerical_gradient_array(lambda b: conv_forward_naive(x, w, b, conv_param)[0], b, dout)\n",
    "\n",
    "out, cache = conv_forward_naive(x, w, b, conv_param)\n",
    "dx, dw, db = conv_backward_naive(dout, cache)\n",
    "\n",
    "# Your errors should be around 1e-9'\n",
    "print('Testing conv_backward_naive function')\n",
    "print('dx error: ', rel_error(dx, dx_num))\n",
    "print('dw error: ', rel_error(dw, dw_num))\n",
    "print('db error: ', rel_error(db, db_num))"
   ]
  },
  {
   "cell_type": "markdown",
   "metadata": {},
   "source": [
    "### Max pool forward pass\n",
    "\n",
    "In this section, we will implement the forward pass of the max pool.  The function is `max_pool_forward_naive` in `nndl/conv_layers.py`.  Do not worry about the efficiency of implementation.\n",
    "\n",
    "After you implement `max_pool_forward_naive`, test your implementation by running the cell below."
   ]
  },
  {
   "cell_type": "code",
   "execution_count": 4,
   "metadata": {},
   "outputs": [
    {
     "name": "stdout",
     "output_type": "stream",
     "text": [
      "Testing max_pool_forward_naive function:\n",
      "difference:  4.1666665157267834e-08\n"
     ]
    }
   ],
   "source": [
    "x_shape = (2, 3, 4, 4)\n",
    "x = np.linspace(-0.3, 0.4, num=np.prod(x_shape)).reshape(x_shape)\n",
    "pool_param = {'pool_width': 2, 'pool_height': 2, 'stride': 2}\n",
    "\n",
    "out, _ = max_pool_forward_naive(x, pool_param)\n",
    "\n",
    "correct_out = np.array([[[[-0.26315789, -0.24842105],\n",
    "                          [-0.20421053, -0.18947368]],\n",
    "                         [[-0.14526316, -0.13052632],\n",
    "                          [-0.08631579, -0.07157895]],\n",
    "                         [[-0.02736842, -0.01263158],\n",
    "                          [ 0.03157895,  0.04631579]]],\n",
    "                        [[[ 0.09052632,  0.10526316],\n",
    "                          [ 0.14947368,  0.16421053]],\n",
    "                         [[ 0.20842105,  0.22315789],\n",
    "                          [ 0.26736842,  0.28210526]],\n",
    "                         [[ 0.32631579,  0.34105263],\n",
    "                          [ 0.38526316,  0.4       ]]]])\n",
    "\n",
    "# Compare your output with ours. Difference should be around 1e-8.\n",
    "print('Testing max_pool_forward_naive function:')\n",
    "print('difference: ', rel_error(out, correct_out))"
   ]
  },
  {
   "cell_type": "markdown",
   "metadata": {},
   "source": [
    "### Max pool backward pass \n",
    "\n",
    "In this section, you will implement the backward pass of the max pool.  The function is `max_pool_backward_naive` in `nndl/conv_layers.py`.  Do not worry about the efficiency of implementation.\n",
    "\n",
    "After you implement `max_pool_backward_naive`, test your implementation by running the cell below."
   ]
  },
  {
   "cell_type": "code",
   "execution_count": 5,
   "metadata": {},
   "outputs": [
    {
     "name": "stdout",
     "output_type": "stream",
     "text": [
      "Testing max_pool_backward_naive function:\n",
      "dx error:  3.275624240233432e-12\n"
     ]
    }
   ],
   "source": [
    "x = np.random.randn(3, 2, 8, 8)\n",
    "dout = np.random.randn(3, 2, 4, 4)\n",
    "pool_param = {'pool_height': 2, 'pool_width': 2, 'stride': 2}\n",
    "\n",
    "dx_num = eval_numerical_gradient_array(lambda x: max_pool_forward_naive(x, pool_param)[0], x, dout)\n",
    "\n",
    "out, cache = max_pool_forward_naive(x, pool_param)\n",
    "dx = max_pool_backward_naive(dout, cache)\n",
    "\n",
    "# Your error should be around 1e-12\n",
    "print('Testing max_pool_backward_naive function:')\n",
    "print('dx error: ', rel_error(dx, dx_num))"
   ]
  },
  {
   "cell_type": "markdown",
   "metadata": {},
   "source": [
    "## Fast implementation of the CNN layers\n",
    "\n",
    "Implementing fast versions of the CNN layers can be difficult.  We will provide you with the fast layers implemented by utils.  They are provided in `utils/fast_layers.py`.\n",
    "\n",
    "The fast convolution implementation depends on a Cython extension ('pip install Cython' to your virtual environment); to compile it you need to run the following from the `utils` directory:\n",
    "\n",
    "```bash\n",
    "python setup.py build_ext --inplace\n",
    "```\n",
    "\n",
    "**NOTE:** The fast implementation for pooling will only perform optimally if the pooling regions are non-overlapping and tile the input. If these conditions are not met then the fast pooling implementation will not be much faster than the naive implementation.\n",
    "\n",
    "You can compare the performance of the naive and fast versions of these layers by running the cell below.\n",
    "\n",
    "You should see pretty drastic speedups in the implementation of these layers.  On our machine, the forward pass speeds up by 17x and the backward pass speeds up by 840x.  Of course, these numbers will vary from machine to machine, as well as on your precise implementation of the naive layers."
   ]
  },
  {
   "cell_type": "code",
   "execution_count": 6,
   "metadata": {},
   "outputs": [
    {
     "name": "stdout",
     "output_type": "stream",
     "text": [
      "Testing conv_forward_fast:\n",
      "Naive: 5.912299s\n",
      "Fast: 0.040371s\n",
      "Speedup: 146.447635x\n",
      "Difference:  1.3732597081282918e-10\n",
      "\n",
      "Testing conv_backward_fast:\n",
      "Naive: 11.061630s\n",
      "Fast: 0.120515s\n",
      "Speedup: 91.786247x\n",
      "dx difference:  3.0585039761912677e-10\n",
      "dw difference:  2.465916071217838e-13\n",
      "db difference:  0.0\n"
     ]
    }
   ],
   "source": [
    "from utils.fast_layers import conv_forward_fast, conv_backward_fast\n",
    "from time import time\n",
    "\n",
    "x = np.random.randn(100, 3, 31, 31)\n",
    "w = np.random.randn(25, 3, 3, 3)\n",
    "b = np.random.randn(25,)\n",
    "dout = np.random.randn(100, 25, 16, 16)\n",
    "conv_param = {'stride': 2, 'pad': 1}\n",
    "\n",
    "t0 = time()\n",
    "out_naive, cache_naive = conv_forward_naive(x, w, b, conv_param)\n",
    "t1 = time()\n",
    "out_fast, cache_fast = conv_forward_fast(x, w, b, conv_param)\n",
    "t2 = time()\n",
    "\n",
    "print('Testing conv_forward_fast:')\n",
    "print('Naive: %fs' % (t1 - t0))\n",
    "print('Fast: %fs' % (t2 - t1))\n",
    "print('Speedup: %fx' % ((t1 - t0) / (t2 - t1)))\n",
    "print('Difference: ', rel_error(out_naive, out_fast))\n",
    "\n",
    "t0 = time()\n",
    "dx_naive, dw_naive, db_naive = conv_backward_naive(dout, cache_naive)\n",
    "t1 = time()\n",
    "dx_fast, dw_fast, db_fast = conv_backward_fast(dout, cache_fast)\n",
    "t2 = time()\n",
    "\n",
    "print('\\nTesting conv_backward_fast:')\n",
    "print('Naive: %fs' % (t1 - t0))\n",
    "print('Fast: %fs' % (t2 - t1))\n",
    "print('Speedup: %fx' % ((t1 - t0) / (t2 - t1)))\n",
    "print('dx difference: ', rel_error(dx_naive, dx_fast))\n",
    "print('dw difference: ', rel_error(dw_naive, dw_fast))\n",
    "print('db difference: ', rel_error(db_naive, db_fast))"
   ]
  },
  {
   "cell_type": "code",
   "execution_count": 7,
   "metadata": {},
   "outputs": [
    {
     "name": "stdout",
     "output_type": "stream",
     "text": [
      "Testing pool_forward_fast:\n",
      "Naive: 0.345049s\n",
      "fast: 0.006899s\n",
      "speedup: 50.013547x\n",
      "difference:  0.0\n",
      "\n",
      "Testing pool_backward_fast:\n",
      "Naive: 1.262884s\n",
      "speedup: 34.239720x\n",
      "dx difference:  0.0\n"
     ]
    }
   ],
   "source": [
    "from utils.fast_layers import max_pool_forward_fast, max_pool_backward_fast\n",
    "\n",
    "x = np.random.randn(100, 3, 32, 32)\n",
    "dout = np.random.randn(100, 3, 16, 16)\n",
    "pool_param = {'pool_height': 2, 'pool_width': 2, 'stride': 2}\n",
    "\n",
    "t0 = time()\n",
    "out_naive, cache_naive = max_pool_forward_naive(x, pool_param)\n",
    "t1 = time()\n",
    "out_fast, cache_fast = max_pool_forward_fast(x, pool_param)\n",
    "t2 = time()\n",
    "\n",
    "print('Testing pool_forward_fast:')\n",
    "print('Naive: %fs' % (t1 - t0))\n",
    "print('fast: %fs' % (t2 - t1))\n",
    "print('speedup: %fx' % ((t1 - t0) / (t2 - t1)))\n",
    "print('difference: ', rel_error(out_naive, out_fast))\n",
    "\n",
    "t0 = time()\n",
    "dx_naive = max_pool_backward_naive(dout, cache_naive)\n",
    "t1 = time()\n",
    "dx_fast = max_pool_backward_fast(dout, cache_fast)\n",
    "t2 = time()\n",
    "\n",
    "print('\\nTesting pool_backward_fast:')\n",
    "print('Naive: %fs' % (t1 - t0))\n",
    "print('speedup: %fx' % ((t1 - t0) / (t2 - t1)))\n",
    "print('dx difference: ', rel_error(dx_naive, dx_fast))"
   ]
  },
  {
   "cell_type": "markdown",
   "metadata": {},
   "source": [
    "## Implementation of cascaded layers\n",
    "\n",
    "We've provided the following functions in `nndl/conv_layer_utils.py`:\n",
    "    - conv_relu_forward\n",
    "    - conv_relu_backward\n",
    "    - conv_relu_pool_forward\n",
    "    - conv_relu_pool_backward\n",
    "    \n",
    "These use the fast implementations of the conv net layers.  You can test them below:"
   ]
  },
  {
   "cell_type": "code",
   "execution_count": 8,
   "metadata": {},
   "outputs": [
    {
     "name": "stdout",
     "output_type": "stream",
     "text": [
      "Testing conv_relu_pool\n",
      "dx error:  1.695600829267532e-08\n",
      "dw error:  1.074548943351886e-09\n",
      "db error:  6.426691438928113e-11\n"
     ]
    }
   ],
   "source": [
    "from nndl.conv_layer_utils import conv_relu_pool_forward, conv_relu_pool_backward\n",
    "\n",
    "x = np.random.randn(2, 3, 16, 16)\n",
    "w = np.random.randn(3, 3, 3, 3)\n",
    "b = np.random.randn(3,)\n",
    "dout = np.random.randn(2, 3, 8, 8)\n",
    "conv_param = {'stride': 1, 'pad': 1}\n",
    "pool_param = {'pool_height': 2, 'pool_width': 2, 'stride': 2}\n",
    "\n",
    "out, cache = conv_relu_pool_forward(x, w, b, conv_param, pool_param)\n",
    "dx, dw, db = conv_relu_pool_backward(dout, cache)\n",
    "\n",
    "dx_num = eval_numerical_gradient_array(lambda x: conv_relu_pool_forward(x, w, b, conv_param, pool_param)[0], x, dout)\n",
    "dw_num = eval_numerical_gradient_array(lambda w: conv_relu_pool_forward(x, w, b, conv_param, pool_param)[0], w, dout)\n",
    "db_num = eval_numerical_gradient_array(lambda b: conv_relu_pool_forward(x, w, b, conv_param, pool_param)[0], b, dout)\n",
    "\n",
    "print('Testing conv_relu_pool')\n",
    "print('dx error: ', rel_error(dx_num, dx))\n",
    "print('dw error: ', rel_error(dw_num, dw))\n",
    "print('db error: ', rel_error(db_num, db))"
   ]
  },
  {
   "cell_type": "code",
   "execution_count": 9,
   "metadata": {
    "pycharm": {
     "is_executing": true
    }
   },
   "outputs": [
    {
     "name": "stdout",
     "output_type": "stream",
     "text": [
      "Testing conv_relu:\n",
      "dx error:  2.5573607873221785e-09\n",
      "dw error:  5.547455130378393e-10\n",
      "db error:  1.4144939398141285e-11\n"
     ]
    }
   ],
   "source": [
    "from nndl.conv_layer_utils import conv_relu_forward, conv_relu_backward\n",
    "\n",
    "x = np.random.randn(2, 3, 8, 8)\n",
    "w = np.random.randn(3, 3, 3, 3)\n",
    "b = np.random.randn(3,)\n",
    "dout = np.random.randn(2, 3, 8, 8)\n",
    "conv_param = {'stride': 1, 'pad': 1}\n",
    "\n",
    "out, cache = conv_relu_forward(x, w, b, conv_param)\n",
    "dx, dw, db = conv_relu_backward(dout, cache)\n",
    "\n",
    "dx_num = eval_numerical_gradient_array(lambda x: conv_relu_forward(x, w, b, conv_param)[0], x, dout)\n",
    "dw_num = eval_numerical_gradient_array(lambda w: conv_relu_forward(x, w, b, conv_param)[0], w, dout)\n",
    "db_num = eval_numerical_gradient_array(lambda b: conv_relu_forward(x, w, b, conv_param)[0], b, dout)\n",
    "\n",
    "print('Testing conv_relu:')\n",
    "print('dx error: ', rel_error(dx_num, dx))\n",
    "print('dw error: ', rel_error(dw_num, dw))\n",
    "print('db error: ', rel_error(db_num, db))"
   ]
  },
  {
   "cell_type": "markdown",
   "metadata": {},
   "source": [
    "## What next?\n",
    "\n",
    "We saw how helpful batch normalization was for training FC nets.  In the next notebook, we'll implement a batch normalization for convolutional neural networks, and then finish off by implementing a CNN to improve our validation accuracy on CIFAR-10."
   ]
  },
  {
   "cell_type": "code",
   "execution_count": null,
   "metadata": {},
   "outputs": [],
   "source": [
    "# conv_layers.py\n",
    "import numpy as np\n",
    "from nndl.layers import *\n",
    "import pdb\n",
    "\n",
    "\n",
    "def conv_forward_naive(x, w, b, conv_param):\n",
    "    \"\"\"\n",
    "    A naive implementation of the forward pass for a convolutional layer.\n",
    "\n",
    "    The input consists of N data points, each with C channels, height H and width\n",
    "    W. We convolve each input with F different filters, where each filter spans\n",
    "    all C channels and has height HH and width HH.\n",
    "\n",
    "    Input:\n",
    "    - x: Input data of shape (N, C, H, W)\n",
    "    - w: Filter weights of shape (F, C, HH, WW)\n",
    "    - b: Biases, of shape (F,)\n",
    "    - conv_param: A dictionary with the following keys:\n",
    "      - 'stride': The number of pixels between adjacent receptive fields in the\n",
    "        horizontal and vertical directions.\n",
    "      - 'pad': The number of pixels that will be used to zero-pad the input.\n",
    "\n",
    "    Returns a tuple of:\n",
    "    - out: Output data, of shape (N, F, H', W') where H' and W' are given by\n",
    "      H' = 1 + (H + 2 * pad - HH) / stride\n",
    "      W' = 1 + (W + 2 * pad - WW) / stride\n",
    "    - cache: (x, w, b, conv_param)\n",
    "    \"\"\"\n",
    "    out = None\n",
    "    pad = conv_param[\"pad\"]\n",
    "    stride = conv_param[\"stride\"]\n",
    "\n",
    "    # ================================================================ #\n",
    "    # YOUR CODE HERE:\n",
    "    #   Implement the forward pass of a convolutional neural network.\n",
    "    #   Store the output as 'out'.\n",
    "    #   Hint: to pad the array, you can use the function np.pad.\n",
    "    # ================================================================ #\n",
    "\n",
    "    N, _C, H, W = x.shape\n",
    "    F, _C, HH, WW = w.shape\n",
    "\n",
    "    xpad = np.pad(x, ((0, 0), (0, 0), (pad, pad), (pad, pad)), mode=\"constant\")\n",
    "    out_height = int(1 + (H + 2 * pad - HH) / stride)\n",
    "    out_width = int(1 + (W + 2 * pad - WW) / stride)\n",
    "    out = np.zeros([N, F, out_height, out_width])\n",
    "\n",
    "    for i in range(N):\n",
    "        for c_i in range(F):\n",
    "            for h_i in range(out_height):\n",
    "                for w_i in range(out_width):\n",
    "                    out[i, c_i, h_i, w_i] = (\n",
    "                        w[c_i]\n",
    "                        * xpad[\n",
    "                            i,\n",
    "                            :,\n",
    "                            h_i * stride : h_i * stride + HH,\n",
    "                            w_i * stride : w_i * stride + WW,\n",
    "                        ]\n",
    "                    ).sum() + b[c_i]\n",
    "\n",
    "    # ================================================================ #\n",
    "    # END YOUR CODE HERE\n",
    "    # ================================================================ #\n",
    "\n",
    "    cache = (x, w, b, conv_param)\n",
    "    return out, cache\n",
    "\n",
    "\n",
    "def conv_backward_naive(dout, cache):\n",
    "    \"\"\"\n",
    "    A naive implementation of the backward pass for a convolutional layer.\n",
    "\n",
    "    Inputs:\n",
    "    - dout: Upstream derivatives.\n",
    "    - cache: A tuple of (x, w, b, conv_param) as in conv_forward_naive\n",
    "\n",
    "    Returns a tuple of:\n",
    "    - dx: Gradient with respect to x\n",
    "    - dw: Gradient with respect to w\n",
    "    - db: Gradient with respect to b\n",
    "    \"\"\"\n",
    "    dx, dw, db = None, None, None\n",
    "\n",
    "    N, F, out_height, out_width = dout.shape\n",
    "    x, w, b, conv_param = cache\n",
    "\n",
    "    stride, pad = [conv_param[\"stride\"], conv_param[\"pad\"]]\n",
    "    xpad = np.pad(x, ((0, 0), (0, 0), (pad, pad), (pad, pad)), mode=\"constant\")\n",
    "    num_filts, _, f_height, f_width = w.shape\n",
    "\n",
    "    # ================================================================ #\n",
    "    # YOUR CODE HERE:\n",
    "    #   Implement the backward pass of a convolutional neural network.\n",
    "    #   Calculate the gradients: dx, dw, and db.\n",
    "    # ================================================================ #\n",
    "\n",
    "    # dx with padding\n",
    "    dx = np.zeros_like(xpad)\n",
    "\n",
    "    for i in range(N):\n",
    "        for c_i in range(F):\n",
    "            for h_i in range(out_height):\n",
    "                for w_i in range(out_width):\n",
    "                    dx[\n",
    "                        i,\n",
    "                        :,\n",
    "                        h_i * stride : h_i * stride + f_height,\n",
    "                        w_i * stride : w_i * stride + f_width,\n",
    "                    ] += (\n",
    "                        dout[i, c_i, h_i, w_i] * w[c_i]\n",
    "                    )\n",
    "\n",
    "    # adjust dx shape\n",
    "    H, W = x.shape[-2:]\n",
    "    dx = dx[:, :, pad : H + pad, pad : W + pad]\n",
    "\n",
    "    # dw\n",
    "    dw = np.zeros_like(w)\n",
    "\n",
    "    for i in range(N):\n",
    "        for c_i in range(F):\n",
    "            for h_i in range(out_height):\n",
    "                for w_i in range(out_width):\n",
    "                    dw[c_i] += (\n",
    "                        dout[i, c_i, h_i, w_i]\n",
    "                        * xpad[\n",
    "                            i,\n",
    "                            :,\n",
    "                            h_i * stride : h_i * stride + f_height,\n",
    "                            w_i * stride : w_i * stride + f_width,\n",
    "                        ]\n",
    "                    )\n",
    "\n",
    "    # db\n",
    "    db = dout.sum(axis=(0, 2, 3))\n",
    "\n",
    "    # ================================================================ #\n",
    "    # END YOUR CODE HERE\n",
    "    # ================================================================ #\n",
    "\n",
    "    return dx, dw, db\n",
    "\n",
    "\n",
    "def max_pool_forward_naive(x, pool_param):\n",
    "    \"\"\"\n",
    "    A naive implementation of the forward pass for a max pooling layer.\n",
    "\n",
    "    Inputs:\n",
    "    - x: Input data, of shape (N, C, H, W)\n",
    "    - pool_param: dictionary with the following keys:\n",
    "      - 'pool_height': The height of each pooling region\n",
    "      - 'pool_width': The width of each pooling region\n",
    "      - 'stride': The distance between adjacent pooling regions\n",
    "\n",
    "    Returns a tuple of:\n",
    "    - out: Output data\n",
    "    - cache: (x, pool_param)\n",
    "    \"\"\"\n",
    "    out = None\n",
    "\n",
    "    # ================================================================ #\n",
    "    # YOUR CODE HERE:\n",
    "    #   Implement the max pooling forward pass.\n",
    "    # ================================================================ #\n",
    "\n",
    "    pool_height = pool_param[\"pool_height\"]\n",
    "    pool_width = pool_param[\"pool_width\"]\n",
    "    stride = pool_param[\"stride\"]\n",
    "\n",
    "    N, C, H, W = x.shape\n",
    "    out_height = int((H - pool_height) / stride + 1)\n",
    "    out_width = int((W - pool_width) / stride + 1)\n",
    "    out = np.zeros([N, C, out_height, out_width])\n",
    "\n",
    "    for i in range(N):\n",
    "        for c_i in range(C):\n",
    "            for h_i in range(out_height):\n",
    "                for w_i in range(out_width):\n",
    "                    out[i, c_i, h_i, w_i] = (\n",
    "                        x[\n",
    "                            i,\n",
    "                            c_i,\n",
    "                            h_i * stride : h_i * stride + pool_height,\n",
    "                            w_i * stride : w_i * stride + pool_width,\n",
    "                        ]\n",
    "                    ).max()\n",
    "\n",
    "    # ================================================================ #\n",
    "    # END YOUR CODE HERE\n",
    "    # ================================================================ #\n",
    "    cache = (x, pool_param)\n",
    "    return out, cache\n",
    "\n",
    "\n",
    "def max_pool_backward_naive(dout, cache):\n",
    "    \"\"\"\n",
    "    A naive implementation of the backward pass for a max pooling layer.\n",
    "\n",
    "    Inputs:\n",
    "    - dout: Upstream derivatives\n",
    "    - cache: A tuple of (x, pool_param) as in the forward pass.\n",
    "\n",
    "    Returns:\n",
    "    - dx: Gradient with respect to x\n",
    "    \"\"\"\n",
    "    dx = None\n",
    "    x, pool_param = cache\n",
    "    pool_height, pool_width, stride = (\n",
    "        pool_param[\"pool_height\"],\n",
    "        pool_param[\"pool_width\"],\n",
    "        pool_param[\"stride\"],\n",
    "    )\n",
    "\n",
    "    # ================================================================ #\n",
    "    # YOUR CODE HERE:\n",
    "    #   Implement the max pooling backward pass.\n",
    "    # ================================================================ #\n",
    "\n",
    "    N, C = x.shape[:2]\n",
    "    out_height, out_width = dout.shape[-2:]\n",
    "    dx = np.zeros_like(x)\n",
    "\n",
    "    for i in range(N):\n",
    "        for c_i in range(C):\n",
    "            for h_i in range(out_height):\n",
    "                for w_i in range(out_width):\n",
    "                    max_idx_1d = np.argmax(\n",
    "                        x[\n",
    "                            i,\n",
    "                            c_i,\n",
    "                            h_i * stride : h_i * stride + pool_height,\n",
    "                            w_i * stride : w_i * stride + pool_width,\n",
    "                        ]\n",
    "                    )\n",
    "                    max_idx_2d = np.unravel_index(max_idx_1d, [pool_height, pool_width])\n",
    "                    dx[\n",
    "                        i,\n",
    "                        c_i,\n",
    "                        h_i * stride + max_idx_2d[0],\n",
    "                        w_i * stride + max_idx_2d[1],\n",
    "                    ] = dout[i, c_i, h_i, w_i]\n",
    "\n",
    "    # ================================================================ #\n",
    "    # END YOUR CODE HERE\n",
    "    # ================================================================ #\n",
    "\n",
    "    return dx"
   ]
  }
 ],
 "metadata": {
  "kernelspec": {
   "display_name": "Python 3 (ipykernel)",
   "language": "python",
   "name": "python3"
  },
  "language_info": {
   "codemirror_mode": {
    "name": "ipython",
    "version": 3
   },
   "file_extension": ".py",
   "mimetype": "text/x-python",
   "name": "python",
   "nbconvert_exporter": "python",
   "pygments_lexer": "ipython3",
   "version": "3.9.0"
  },
  "pycharm": {
   "stem_cell": {
    "cell_type": "raw",
    "metadata": {
     "collapsed": false
    },
    "source": []
   }
  }
 },
 "nbformat": 4,
 "nbformat_minor": 2
}
